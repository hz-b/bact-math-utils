{
 "cells": [
  {
   "cell_type": "markdown",
   "id": "50f7855f-d272-4045-a939-00aef16b5786",
   "metadata": {},
   "source": [
    "# Double slit experiment function"
   ]
  },
  {
   "cell_type": "markdown",
   "id": "ee6fe8fa-3c86-429d-afcf-cc461e11a950",
   "metadata": {},
   "source": [
    "Source needed\n",
    "\n",
    "Todos:\n",
    " rename variables "
   ]
  },
  {
   "cell_type": "code",
   "execution_count": null,
   "id": "6526f932-629d-4f93-bc76-3da91cb897de",
   "metadata": {},
   "outputs": [],
   "source": [
    "import scipy.special;"
   ]
  },
  {
   "cell_type": "code",
   "execution_count": null,
   "id": "5ff6eb44-5294-451d-91aa-a7b000b9e9ed",
   "metadata": {},
   "outputs": [],
   "source": [
    "import numpy as np\n",
    "from scipy.special import sinc, cotdg\n",
    "\n",
    "import matplotlib.pyplot as plt"
   ]
  },
  {
   "cell_type": "code",
   "execution_count": null,
   "id": "6049d6dc-8883-41f2-afdd-72ff5fcdbaa0",
   "metadata": {},
   "outputs": [],
   "source": [
    "def double_slit_orig(x, a0, a1, a2, a3, a4, a5, a6):\n",
    "    II = (\n",
    "        a0\n",
    "        * (np.sin(a1 * (x - a4)) / (a1 * (x - a4))) ** 2\n",
    "        / 2\n",
    "        * (1 + a2 * np.cos(a3 * (x - a4) + a5))\n",
    "        + a6\n",
    "    )\n",
    "    for k in np.arange(np.size(II)):\n",
    "        if np.size(II) > 1 and II[k] != II[k]:\n",
    "            II[k] = a0 + a6\n",
    "    return II"
   ]
  },
  {
   "cell_type": "code",
   "execution_count": null,
   "id": "5170637b-6550-4854-b188-a554545466f4",
   "metadata": {},
   "outputs": [],
   "source": [
    "def double_slit(x, *, sx, intensity, a2, a3, x0, phase, offset):\n",
    "    \"\"\"\n",
    "    \n",
    "    Args:\n",
    "        x:   running parameter\n",
    "        x0:  center of x\n",
    "        scale: scaling of x axis\n",
    "        \n",
    "        a1:\n",
    "        a2:\n",
    "        a3:\n",
    "        a4: x0?\n",
    "        \n",
    "        \n",
    "        \n",
    "    \"\"\"\n",
    "    \n",
    "    dx = x - x0\n",
    "    sdx = sx * dx\n",
    "    \n",
    "    sinc_val = sinc(sdx/np.pi)\n",
    "    term1 = 1 / 2 * sinc_val**2\n",
    "    term2_inner = a2 * np.cos(a3 * dx + phase)\n",
    "    term2 = 1 + term2_inner \n",
    "    \n",
    "    y = intensity * term1 * term2 + offset\n",
    "    return y"
   ]
  },
  {
   "cell_type": "markdown",
   "id": "f17cbc2f-9766-4c55-aad8-718ce9e97042",
   "metadata": {},
   "source": [
    "Examples for the double slit"
   ]
  },
  {
   "cell_type": "code",
   "execution_count": null,
   "id": "5c6c51df-fbbc-4177-8147-22c8188b3ff1",
   "metadata": {},
   "outputs": [],
   "source": [
    "x = np.linspace(-1, 1, num=100*600+1)"
   ]
  },
  {
   "cell_type": "code",
   "execution_count": null,
   "id": "b60a4eab-b484-42bd-9afa-7a8ba7d6b784",
   "metadata": {},
   "outputs": [],
   "source": [
    "y = double_slit(x, intensity=1, sx=20, x0=0, offset=0, a2=5, a3=2, phase=1.5 * np.pi)\n",
    "plt.plot(x, y)"
   ]
  },
  {
   "cell_type": "code",
   "execution_count": null,
   "id": "57b8dd49-60ba-4bcb-84c6-8768df94250f",
   "metadata": {},
   "outputs": [],
   "source": [
    "import scipy.special"
   ]
  },
  {
   "cell_type": "code",
   "execution_count": null,
   "id": "246fb603-35a6-4e63-b59f-0049386627b6",
   "metadata": {},
   "outputs": [],
   "source": [
    "plt.plot(\n",
    "    x, scipy.special.sinc(20 * x/np.pi),\n",
    "    x, 1/10 * np.cos(20 * x)\n",
    ")"
   ]
  },
  {
   "cell_type": "markdown",
   "id": "84b270c7-2219-4f40-acdf-9a943234f065",
   "metadata": {},
   "source": [
    "## Analytical analysis"
   ]
  },
  {
   "cell_type": "code",
   "execution_count": null,
   "id": "901ec80e-b0ed-4b4e-809b-4f5a8cbc81bc",
   "metadata": {},
   "outputs": [],
   "source": [
    "import sympy"
   ]
  },
  {
   "cell_type": "code",
   "execution_count": null,
   "id": "2bc9f914-be7b-4e75-aaac-919c88f14816",
   "metadata": {},
   "outputs": [],
   "source": [
    "sympy.init_printing()"
   ]
  },
  {
   "cell_type": "code",
   "execution_count": null,
   "id": "9ef70947-86e0-41c8-b9a9-bc94301561eb",
   "metadata": {},
   "outputs": [],
   "source": [
    "x = sympy.Symbol('x', real=True)\n",
    "y = sympy.Symbol('y', real=True)\n",
    "x0 = sympy.Symbol('x_0', real=True)\n",
    "sx = sympy.Symbol('s_x', real=True)\n",
    "intensity = sympy.Symbol('I', real=True)\n",
    "phase = sympy.Symbol(r'\\varphi', real=True)\n",
    "a2 = sympy.Symbol('a_2', real=True)\n",
    "a3 = sympy.Symbol('a_3', real=True)\n",
    "offset = sympy.Symbol('y_0', real=True)"
   ]
  },
  {
   "cell_type": "code",
   "execution_count": null,
   "id": "b8f5a573-62a8-4bab-a873-9858f14bddeb",
   "metadata": {},
   "outputs": [],
   "source": []
  },
  {
   "cell_type": "code",
   "execution_count": null,
   "id": "358aaa69-4114-490a-89d6-27f086c25a29",
   "metadata": {},
   "outputs": [],
   "source": [
    "dx = x - x0\n",
    "sdx = sx * dx\n",
    "    \n",
    "sinc_val = sympy.sinc(sdx)\n",
    "term1 = sympy.Rational(1, 2) * sinc_val**2\n",
    "term2_inner = a2 * sympy.cos(a3 * dx + phase)\n",
    "term2 = 1 + term2_inner \n",
    "    \n",
    "y = intensity * term1 * term2 + offset\n",
    "y"
   ]
  },
  {
   "cell_type": "code",
   "execution_count": null,
   "id": "02de865a-15f2-4134-b131-bae01e7f1fe4",
   "metadata": {},
   "outputs": [],
   "source": [
    "dy_dx0 = sympy.diff(y, x0)\n",
    "dy_dI = sympy.diff(y, intensity)\n",
    "dy_dxs = sympy.diff(y, sx)\n",
    "dy_dy0 = sympy.diff(y, offset)\n",
    "dy_dphase = sympy.diff(y, phase)\n",
    "dy_da2 = sympy.diff(y, a2)\n",
    "dy_da3 = sympy.diff(y, a3)"
   ]
  },
  {
   "cell_type": "code",
   "execution_count": null,
   "id": "6c189ee0-82ab-42b3-a09f-e9ac764d1e9e",
   "metadata": {},
   "outputs": [],
   "source": [
    "derivs = [\n",
    "    dy_dx0,\n",
    "    dy_dI,\n",
    "    dy_dxs,\n",
    "    dy_dy0,\n",
    "    dy_dphase,\n",
    "    dy_da2,\n",
    "    dy_da3,\n",
    "]\n",
    "len(derivs)\n"
   ]
  },
  {
   "cell_type": "markdown",
   "id": "558be926-1279-4636-b526-f6787367a931",
   "metadata": {},
   "source": [
    "### Simplify expressions"
   ]
  },
  {
   "cell_type": "code",
   "execution_count": null,
   "id": "1c67ffba-d97a-462d-8cb4-678f46096c6e",
   "metadata": {},
   "outputs": [],
   "source": [
    "dx_r = sympy.Symbol('dx', real=True)\n",
    "dxs_r = sympy.Symbol('dxs', real=True)\n",
    "cr = sympy.Symbol('cr', real=True)\n",
    "cr2 = sympy.Symbol('cr_2', real=True)\n",
    "scr = sympy.Symbol('scr', real=True)\n",
    "ccr = sympy.Symbol('ccr', real=True)"
   ]
  },
  {
   "cell_type": "code",
   "execution_count": null,
   "id": "89d4a810-ee87-46bc-871d-4054c555a6bd",
   "metadata": {},
   "outputs": [],
   "source": [
    "[\n",
    "    term.subs(x, dx + x0)\n",
    "    .subs(dx * sx, dxs)\n",
    "    .subs(phase + a3 * (x - x0), cr)\n",
    "    .subs(a2 * sympy.cos(cr) + 1, cr2)\n",
    "    .subs(sympy.sin(cr), scr)\n",
    "    .subs(sympy.cos(cr), ccr)\n",
    "    for term in derivs\n",
    "]"
   ]
  },
  {
   "cell_type": "markdown",
   "id": "1b68d6ee-972c-4773-ac4c-e47728c02f17",
   "metadata": {},
   "source": [
    "Approximation of \n",
    "\n",
    "$$\n",
    "    \\frac{cos(x)}{x} - \\frac{sin(x)}{x^2} = sinc(x) \\left[cot(x) - \\frac 1 x\\right]\n",
    "$$\n"
   ]
  },
  {
   "cell_type": "code",
   "execution_count": null,
   "id": "108a6b6b-99b3-4a8b-8e91-37686f872ea9",
   "metadata": {},
   "outputs": [],
   "source": [
    "sympy.series(sympy.cos(x)/x - sympy.sin(x)/x**2, n=8)"
   ]
  },
  {
   "cell_type": "code",
   "execution_count": null,
   "id": "0e233ee2-b6d3-493f-9865-215fdb05cd71",
   "metadata": {},
   "outputs": [],
   "source": [
    "(\n",
    "    1/x * sympy.sin(x) * (sympy.cot(x) - 1/x)\n",
    ")"
   ]
  },
  {
   "cell_type": "code",
   "execution_count": null,
   "id": "6a008382-ab65-44ef-b39b-7f83211a8476",
   "metadata": {},
   "outputs": [],
   "source": [
    "_.series(n = 8)"
   ]
  },
  {
   "cell_type": "code",
   "execution_count": null,
   "id": "9070b717-04a8-4861-bdbe-32e02e73bcae",
   "metadata": {},
   "outputs": [],
   "source": [
    "def approximation(x):\n",
    "    \"\"\"\n",
    "    \n",
    "    x * cos x - sin * x\n",
    "    -------------------\n",
    "           x * x\n",
    "           \n",
    "    Todo:\n",
    "         Reorder to Hohners form\n",
    "    \"\"\"\n",
    "    terms_inv = np.array([-3, 30, -840, 45360])\n",
    "    terms = 1 / terms_inv\n",
    "    result = 0\n",
    "    t_x = x\n",
    "    x2 = x**2\n",
    "    for term in terms:\n",
    "        result += term * t_x\n",
    "        t_x = t_x * x2\n",
    "    return result\n",
    "\n",
    "def func_check(x):\n",
    "    term1 = np.cos(x) \n",
    "    term2 = np.sinc(x)\n",
    "    diff = term1 - term2\n",
    "    return diff / x\n",
    "\n",
    "def func_opt(x):\n",
    "    cotx = cotdg(x)\n",
    "    x_inv = 1 / x\n",
    "    bracket = cotx - x_inv\n",
    "    r = sinc(x) * bracket\n",
    "    return r\n",
    "\n",
    "def func(x, cut=1e-6):\n",
    "    x = np.asarray(x)\n",
    "    \n",
    "\n",
    "def df():\n",
    "    "
   ]
  },
  {
   "cell_type": "markdown",
   "id": "055c6d81-cb79-4087-9c40-0d6c57abf1b0",
   "metadata": {},
   "source": [
    "Numerical checks"
   ]
  },
  {
   "cell_type": "code",
   "execution_count": null,
   "id": "0f033488-f58b-427f-a5b0-9c03659ce7e1",
   "metadata": {},
   "outputs": [],
   "source": []
  },
  {
   "cell_type": "code",
   "execution_count": null,
   "id": "f619f44e-fed1-40a2-9c74-2bcc1c1b73db",
   "metadata": {},
   "outputs": [],
   "source": [
    "x_vals"
   ]
  },
  {
   "cell_type": "code",
   "execution_count": null,
   "id": "73e9c2ae-7716-4db4-af5a-3b47f76977fc",
   "metadata": {},
   "outputs": [],
   "source": []
  }
 ],
 "metadata": {
  "kernelspec": {
   "display_name": "Python 3 (ipykernel)",
   "language": "python",
   "name": "python3"
  },
  "language_info": {
   "codemirror_mode": {
    "name": "ipython",
    "version": 3
   },
   "file_extension": ".py",
   "mimetype": "text/x-python",
   "name": "python",
   "nbconvert_exporter": "python",
   "pygments_lexer": "ipython3",
   "version": "3.8.10"
  }
 },
 "nbformat": 4,
 "nbformat_minor": 5
}
