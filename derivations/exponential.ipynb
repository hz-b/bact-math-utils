{
 "cells": [
  {
   "cell_type": "code",
   "execution_count": null,
   "id": "crucial-facility",
   "metadata": {},
   "outputs": [],
   "source": [
    "import sympy as S\n",
    "S.init_printing()"
   ]
  },
  {
   "cell_type": "markdown",
   "id": "sunrise-ivory",
   "metadata": {},
   "source": [
    "#  Estimating a decay\n",
    "\n",
    "Its an expontial. some twists will be added for dealing with imperfections of measurment data"
   ]
  },
  {
   "cell_type": "markdown",
   "id": "committed-longer",
   "metadata": {},
   "source": [
    "## Variable definitions"
   ]
  },
  {
   "cell_type": "code",
   "execution_count": null,
   "id": "entire-benchmark",
   "metadata": {},
   "outputs": [],
   "source": [
    "tau = S.Symbol(r'\\tau', real=True)\n",
    "tau_inv = S.Symbol(r'\\tau_{inv}', real=True)\n",
    "t = S.Symbol(r't', real=True)\n",
    "A = S.Symbol(r'c_0', real=True)\n",
    "b = S.Symbol(r'b', real=True)\n",
    "t0 = S.Symbol(r't_0', real=True)"
   ]
  },
  {
   "cell_type": "markdown",
   "id": "imperial-accuracy",
   "metadata": {},
   "source": [
    "## Standard equation "
   ]
  },
  {
   "cell_type": "code",
   "execution_count": null,
   "id": "british-citation",
   "metadata": {},
   "outputs": [],
   "source": [
    "expr = A * S.exp(t/tau)\n",
    "expr"
   ]
  },
  {
   "cell_type": "code",
   "execution_count": null,
   "id": "stuck-vault",
   "metadata": {},
   "outputs": [],
   "source": [
    "S.diff(expr, A), S.diff(expr, tau), S.diff(expr, b)"
   ]
  },
  {
   "cell_type": "markdown",
   "id": "exotic-separation",
   "metadata": {},
   "source": [
    "## Correctiong for imperfect data"
   ]
  },
  {
   "cell_type": "code",
   "execution_count": null,
   "id": "suburban-region",
   "metadata": {},
   "outputs": [],
   "source": [
    "expr = A * S.exp((t-t0) * tau_inv) + b\n",
    "expr"
   ]
  },
  {
   "cell_type": "code",
   "execution_count": null,
   "id": "pointed-server",
   "metadata": {},
   "outputs": [],
   "source": [
    "deriv  = S.diff(expr, A), S.diff(expr, tau_inv), S.diff(expr, b), S.diff(expr, t0) \n",
    "deriv "
   ]
  },
  {
   "cell_type": "code",
   "execution_count": null,
   "id": "wicked-distinction",
   "metadata": {},
   "outputs": [],
   "source": []
  },
  {
   "cell_type": "markdown",
   "id": "looking-audit",
   "metadata": {},
   "source": [
    "## Approximation by a series"
   ]
  },
  {
   "cell_type": "code",
   "execution_count": null,
   "id": "latter-layer",
   "metadata": {},
   "outputs": [],
   "source": [
    "x = S.Symbol(r'x')\n",
    "v = S.Symbol(r'v')"
   ]
  },
  {
   "cell_type": "code",
   "execution_count": null,
   "id": "coated-ground",
   "metadata": {},
   "outputs": [],
   "source": [
    "approx = S.series(S.log(v + x), x=x, n=2)\n",
    "approx"
   ]
  },
  {
   "cell_type": "code",
   "execution_count": null,
   "id": "express-davis",
   "metadata": {},
   "outputs": [],
   "source": [
    "approx.subs({v : expr, x: b})"
   ]
  },
  {
   "cell_type": "code",
   "execution_count": null,
   "id": "introductory-cancellation",
   "metadata": {},
   "outputs": [],
   "source": []
  }
 ],
 "metadata": {
  "kernelspec": {
   "display_name": "Python 3",
   "language": "python",
   "name": "python3"
  },
  "language_info": {
   "codemirror_mode": {
    "name": "ipython",
    "version": 3
   },
   "file_extension": ".py",
   "mimetype": "text/x-python",
   "name": "python",
   "nbconvert_exporter": "python",
   "pygments_lexer": "ipython3",
   "version": "3.8.5"
  }
 },
 "nbformat": 4,
 "nbformat_minor": 5
}
